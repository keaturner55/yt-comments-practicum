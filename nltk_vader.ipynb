{
 "cells": [
  {
   "cell_type": "markdown",
   "metadata": {},
   "source": [
    "# Natural Language Processsing with a Rule-based Model\n",
    "NLTK SentimentIntensityAnalyzer is built on the NLTK VADER package and is a rule/lexicon-based sentiment analyzer. The module is built to handle social media data. Pre-processing is handled internally within the modules (i.e. removing punctuation, stopwords, graphics, etc.). VADER was integrated into the NLTK python module\n",
    "\n",
    "https://www.nltk.org/api/nltk.sentiment.vader.html"
   ]
  },
  {
   "cell_type": "code",
   "execution_count": 66,
   "metadata": {},
   "outputs": [],
   "source": [
    "from nltk.sentiment import SentimentIntensityAnalyzer # rule/lexicon-based sentiment analyzer\n",
    "import os\n",
    "from matplotlib import pyplot as plt\n",
    "\n",
    "# local imports\n",
    "from comment_scraper import get_sql_table"
   ]
  },
  {
   "cell_type": "code",
   "execution_count": 3,
   "metadata": {},
   "outputs": [],
   "source": [
    "# analysis testing here is done on comments scraped from MSNBC videos\n",
    "DATA_DIR = 'C:\\\\Users\\\\keatu\\\\Regis_archive\\\\practicum2_data\\\\'\n",
    "dbname = os.path.join(DATA_DIR, \"Youtube_Data_msnbc.db\")"
   ]
  },
  {
   "cell_type": "code",
   "execution_count": 32,
   "metadata": {},
   "outputs": [],
   "source": [
    "# combine scraped comments and channel info into one dataframe\n",
    "comments = get_sql_table('comments', dbname)\n",
    "comments = comments.replace(\"nan\",0)\n",
    "videos = get_sql_table('videos',dbname)\n",
    "videos = videos.replace(\"nan\",0)\n",
    "combined = comments.merge(videos, on='videoId', how=\"inner\", suffixes=(\"\",\"_video\"))"
   ]
  },
  {
   "cell_type": "code",
   "execution_count": 28,
   "metadata": {},
   "outputs": [
    {
     "name": "stdout",
     "output_type": "stream",
     "text": [
      "519\n"
     ]
    }
   ],
   "source": [
    "# show total number of videos in dataframe\n",
    "print(combined.videoId.nunique())"
   ]
  },
  {
   "cell_type": "code",
   "execution_count": 44,
   "metadata": {},
   "outputs": [
    {
     "data": {
      "text/html": [
       "<div>\n",
       "<style scoped>\n",
       "    .dataframe tbody tr th:only-of-type {\n",
       "        vertical-align: middle;\n",
       "    }\n",
       "\n",
       "    .dataframe tbody tr th {\n",
       "        vertical-align: top;\n",
       "    }\n",
       "\n",
       "    .dataframe thead th {\n",
       "        text-align: right;\n",
       "    }\n",
       "</style>\n",
       "<table border=\"1\" class=\"dataframe\">\n",
       "  <thead>\n",
       "    <tr style=\"text-align: right;\">\n",
       "      <th></th>\n",
       "      <th>videoId</th>\n",
       "      <th>likeCount_video</th>\n",
       "    </tr>\n",
       "  </thead>\n",
       "  <tbody>\n",
       "    <tr>\n",
       "      <td>336</td>\n",
       "      <td>eYIVMtiBxsU</td>\n",
       "      <td>11897</td>\n",
       "    </tr>\n",
       "    <tr>\n",
       "      <td>451</td>\n",
       "      <td>r-7DQAvpFFk</td>\n",
       "      <td>11340</td>\n",
       "    </tr>\n",
       "    <tr>\n",
       "      <td>450</td>\n",
       "      <td>qvlmz8NczNU</td>\n",
       "      <td>10859</td>\n",
       "    </tr>\n",
       "    <tr>\n",
       "      <td>296</td>\n",
       "      <td>ZEuVKKnRbcQ</td>\n",
       "      <td>10763</td>\n",
       "    </tr>\n",
       "    <tr>\n",
       "      <td>405</td>\n",
       "      <td>lmk1vLuHtjQ</td>\n",
       "      <td>10471</td>\n",
       "    </tr>\n",
       "    <tr>\n",
       "      <td>...</td>\n",
       "      <td>...</td>\n",
       "      <td>...</td>\n",
       "    </tr>\n",
       "    <tr>\n",
       "      <td>470</td>\n",
       "      <td>tXvgD7znE3I</td>\n",
       "      <td>310</td>\n",
       "    </tr>\n",
       "    <tr>\n",
       "      <td>368</td>\n",
       "      <td>hyAAYwE-KLs</td>\n",
       "      <td>303</td>\n",
       "    </tr>\n",
       "    <tr>\n",
       "      <td>173</td>\n",
       "      <td>LSj7wFwutoM</td>\n",
       "      <td>288</td>\n",
       "    </tr>\n",
       "    <tr>\n",
       "      <td>269</td>\n",
       "      <td>VSBISR9mZs0</td>\n",
       "      <td>260</td>\n",
       "    </tr>\n",
       "    <tr>\n",
       "      <td>176</td>\n",
       "      <td>Lf7WWwJZt1M</td>\n",
       "      <td>242</td>\n",
       "    </tr>\n",
       "  </tbody>\n",
       "</table>\n",
       "<p>519 rows × 2 columns</p>\n",
       "</div>"
      ],
      "text/plain": [
       "         videoId  likeCount_video\n",
       "336  eYIVMtiBxsU            11897\n",
       "451  r-7DQAvpFFk            11340\n",
       "450  qvlmz8NczNU            10859\n",
       "296  ZEuVKKnRbcQ            10763\n",
       "405  lmk1vLuHtjQ            10471\n",
       "..           ...              ...\n",
       "470  tXvgD7znE3I              310\n",
       "368  hyAAYwE-KLs              303\n",
       "173  LSj7wFwutoM              288\n",
       "269  VSBISR9mZs0              260\n",
       "176  Lf7WWwJZt1M              242\n",
       "\n",
       "[519 rows x 2 columns]"
      ]
     },
     "execution_count": 44,
     "metadata": {},
     "output_type": "execute_result"
    }
   ],
   "source": [
    "combined.groupby(\"videoId\").aggregate({\"likeCount_video\":\"first\"}).reset_index().sort_values('likeCount_video', ascending=False)"
   ]
  },
  {
   "cell_type": "code",
   "execution_count": 50,
   "metadata": {},
   "outputs": [],
   "source": [
    "# Take the most popular videos using likeCount\n",
    "top_videos = combined.groupby(\"videoId\").aggregate({\"likeCount_video\":\"first\"}).reset_index().sort_values('likeCount_video', ascending=False).head(10)['videoId'].tolist()\n",
    "topdf = combined.loc[combined['videoId'].isin(top_videos)]"
   ]
  },
  {
   "cell_type": "code",
   "execution_count": 53,
   "metadata": {},
   "outputs": [
    {
     "name": "stderr",
     "output_type": "stream",
     "text": [
      "c:\\Users\\keatu\\Anaconda3\\lib\\site-packages\\ipykernel_launcher.py:3: SettingWithCopyWarning: \n",
      "A value is trying to be set on a copy of a slice from a DataFrame.\n",
      "Try using .loc[row_indexer,col_indexer] = value instead\n",
      "\n",
      "See the caveats in the documentation: http://pandas.pydata.org/pandas-docs/stable/user_guide/indexing.html#returning-a-view-versus-a-copy\n",
      "  This is separate from the ipykernel package so we can avoid doing imports until\n"
     ]
    }
   ],
   "source": [
    "# Create sentiment nltk analyzer and apply the polarity_scores function on the comments\n",
    "sia = SentimentIntensityAnalyzer()\n",
    "topdf['sentiment_score'] = topdf[\"textOriginal\"].apply(lambda x: sia.polarity_scores(x)['compound'])"
   ]
  },
  {
   "cell_type": "code",
   "execution_count": 54,
   "metadata": {},
   "outputs": [
    {
     "data": {
      "image/png": "[encoded data removed]",
      "text/plain": [
       "<Figure size 720x576 with 1 Axes>"
      ]
     },
     "metadata": {
      "needs_background": "light"
     },
     "output_type": "display_data"
    }
   ],
   "source": [
    "fig, ax = plt.subplots(figsize = (10,8))\n",
    "ax.hist(topdf['sentiment_score'], bins=20)\n",
    "plt.show()"
   ]
  },
  {
   "cell_type": "code",
   "execution_count": 65,
   "metadata": {},
   "outputs": [
    {
     "data": {
      "image/png": "[encoded data removed]",
      "text/plain": [
       "<Figure size 720x864 with 10 Axes>"
      ]
     },
     "metadata": {
      "needs_background": "light"
     },
     "output_type": "display_data"
    }
   ],
   "source": [
    "fig = plt.figure(figsize = (10,12))\n",
    "i = 0\n",
    "for vid, vid_group in topdf.groupby(\"videoId\"):\n",
    "    i+=1\n",
    "    ax = fig.add_subplot(10,1,i)\n",
    "    #ax.title(vid_group['title'])\n",
    "    ax.hist(vid_group['sentiment_score'], bins=20)\n",
    "    ax.set_xlim(-1,1)\n",
    "    ax.spines['right'].set_visible(False)\n",
    "    ax.spines['top'].set_visible(False)\n",
    "    if i!=10:\n",
    "        ax.set_xticklabels([])\n",
    "    else:\n",
    "        ax.set_xlabel(\"Polarity Score\", size=20)\n",
    "plt.show()"
   ]
  },
  {
   "cell_type": "code",
   "execution_count": null,
   "metadata": {},
   "outputs": [],
   "source": []
  }
 ],
 "metadata": {
  "kernelspec": {
   "display_name": "Python 3.7.4 ('base')",
   "language": "python",
   "name": "python3"
  },
  "language_info": {
   "codemirror_mode": {
    "name": "ipython",
    "version": 3
   },
   "file_extension": ".py",
   "mimetype": "text/x-python",
   "name": "python",
   "nbconvert_exporter": "python",
   "pygments_lexer": "ipython3",
   "version": "3.7.4"
  },
  "orig_nbformat": 4,
  "vscode": {
   "interpreter": {
    "hash": "e3cb9dc819795652304a44ab58ca5ddcf1f35aa144f974701a2d129f107a2fd9"
   }
  }
 },
 "nbformat": 4,
 "nbformat_minor": 2
}
