{
 "cells": [
  {
   "cell_type": "markdown",
   "metadata": {},
   "source": [
    "# Natural Language Processsing with a Rule-based Model\n",
    "NLTK SentimentIntensityAnalyzer is built on the NLTK VADER package and is a rule/lexicon-based sentiment analyzer. The module is built to handle social media data. Pre-processing is handled internally within the modules (i.e. removing punctuation, stopwords, graphics, etc.)\n",
    "\n",
    "https://www.nltk.org/api/nltk.sentiment.vader.html"
   ]
  },
  {
   "cell_type": "code",
   "execution_count": 17,
   "metadata": {},
   "outputs": [],
   "source": [
    "from nltk.sentiment import SentimentIntensityAnalyzer # rule/lexicon-based sentiment analyzer\n",
    "import operator\n",
    "import sqlite3\n",
    "import os\n",
    "from os.path import join\n",
    "import pandas as pd\n",
    "from matplotlib import pyplot as plt\n",
    "\n",
    "# local imports\n",
    "from comment_scraper import get_sql_table\n",
    "from channel_surfer import upload_tosql"
   ]
  },
  {
   "cell_type": "code",
   "execution_count": 3,
   "metadata": {},
   "outputs": [],
   "source": [
    "# analysis testing here is done on comments scraped from MSNBC videos\n",
    "DATA_DIR = 'C:\\\\Users\\\\keatu\\\\Regis_archive\\\\practicum2_data\\\\'\n",
    "dbname = os.path.join(DATA_DIR, \"Youtube_Data_msnbc.db\")"
   ]
  },
  {
   "cell_type": "code",
   "execution_count": 10,
   "metadata": {},
   "outputs": [],
   "source": [
    "# combine scraped comments and channel info into one dataframe\n",
    "cdf = get_sql_table('comments', dbname)\n",
    "cdf = cdf.repace(\"nan\",0)\n",
    "videos = get_sql_table('videos',dbname)\n",
    "videos = videos.replace(\"nan\",0)\n",
    "combined = cdf.merge(videos, on='videoId', suffixes=(\"\",\"_video\"))\n",
    "combined = combined.replace(\"nan\", 0)"
   ]
  },
  {
   "cell_type": "code",
   "execution_count": 12,
   "metadata": {},
   "outputs": [
    {
     "data": {
      "text/plain": [
       "Index(['index', 'authorDisplayName', 'canRate', 'commentId', 'likeCount',\n",
       "       'publishedAt', 'textDisplay', 'textOriginal', 'updatedAt', 'videoId',\n",
       "       'viewerRating', 'index_video', 'channelId', 'channelTitle',\n",
       "       'description', 'publishedAt_video', 'title', 'commentCount',\n",
       "       'favoriteCount', 'likeCount_video', 'viewCount'],\n",
       "      dtype='object')"
      ]
     },
     "execution_count": 12,
     "metadata": {},
     "output_type": "execute_result"
    }
   ],
   "source": [
    "# Print unique video count\n",
    "combined.columns"
   ]
  },
  {
   "cell_type": "code",
   "execution_count": 21,
   "metadata": {},
   "outputs": [],
   "source": [
    "videos = videos.replace(\"nan\",0)"
   ]
  },
  {
   "cell_type": "code",
   "execution_count": 22,
   "metadata": {},
   "outputs": [],
   "source": [
    "# Take the top 10 most popular videos using likeCount\n",
    "top10videos = videos.sort_values('likeCount', ascending=False).head(10)\n"
   ]
  },
  {
   "cell_type": "code",
   "execution_count": 15,
   "metadata": {},
   "outputs": [],
   "source": [
    "# Create sentiment nltk analyzer and apply the polarity_scores function on the comments\n",
    "sia = SentimentIntensityAnalyzer()\n",
    "top10['sentiment_score'] = top10[\"textOriginal\"].apply(lambda x: sia.polarity_scores(x)['compound'])"
   ]
  },
  {
   "cell_type": "code",
   "execution_count": 19,
   "metadata": {},
   "outputs": [
    {
     "data": {
      "image/png": "[encoded data removed]",
      "text/plain": [
       "<Figure size 720x576 with 1 Axes>"
      ]
     },
     "metadata": {
      "needs_background": "light"
     },
     "output_type": "display_data"
    }
   ],
   "source": [
    "fig, ax = plt.subplots(figsize = (10,8))\n",
    "ax.hist(top10['sentiment_score'], bins=20)\n",
    "plt.show()"
   ]
  },
  {
   "cell_type": "code",
   "execution_count": 26,
   "metadata": {},
   "outputs": [],
   "source": []
  },
  {
   "cell_type": "code",
   "execution_count": null,
   "metadata": {},
   "outputs": [],
   "source": []
  }
 ],
 "metadata": {
  "kernelspec": {
   "display_name": "Python 3.7.4 ('base')",
   "language": "python",
   "name": "python3"
  },
  "language_info": {
   "codemirror_mode": {
    "name": "ipython",
    "version": 3
   },
   "file_extension": ".py",
   "mimetype": "text/x-python",
   "name": "python",
   "nbconvert_exporter": "python",
   "pygments_lexer": "ipython3",
   "version": "3.7.4"
  },
  "orig_nbformat": 4,
  "vscode": {
   "interpreter": {
    "hash": "e3cb9dc819795652304a44ab58ca5ddcf1f35aa144f974701a2d129f107a2fd9"
   }
  }
 },
 "nbformat": 4,
 "nbformat_minor": 2
}
