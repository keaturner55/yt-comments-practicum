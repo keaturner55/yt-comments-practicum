{
 "cells": [
  {
   "cell_type": "markdown",
   "metadata": {},
   "source": [
    "## Final Youtube Comment Analysis\n",
    "\n",
    "Now that we've established the method for determining sentiment, let's move into the data we actually care about measuring--YouTube comments"
   ]
  },
  {
   "cell_type": "code",
   "execution_count": null,
   "metadata": {},
   "outputs": [],
   "source": [
    "from nltk.sentiment import SentimentIntensityAnalyzer # rule/lexicon-based sentiment analyzer\n",
    "import os\n",
    "from matplotlib import pyplot as plt\n",
    "plt.style.use('seaborn-notebook')\n",
    "import seaborn as sns\n",
    "import pandas as pd\n",
    "\n",
    "# local import\n",
    "from comment_scraper import get_sql_table"
   ]
  },
  {
   "cell_type": "code",
   "execution_count": null,
   "metadata": {},
   "outputs": [],
   "source": [
    "# analysis testing here is done on comments scraped from MSNBC videos\n",
    "DATA_DIR = 'C:\\\\Users\\\\keatu\\\\Regis_archive\\\\practicum2_data\\\\'\n",
    "\n",
    "# combine scraped comments and channel info into one dataframe\n",
    "comments = get_sql_table('comments', dbname)\n",
    "comments = comments.replace(\"nan\",0)\n",
    "videos = get_sql_table('videos',dbname)\n",
    "videos = videos.replace(\"nan\",0)\n",
    "combined = comments.merge(videos, on='videoId', how=\"inner\", suffixes=(\"\",\"_video\"))\n",
    "\n",
    "# Take the most popular videos using likeCount\n",
    "top_videos = combined.groupby(\"videoId\").aggregate({\"likeCount_video\":\"first\"}).reset_index().sort_values('likeCount_video', ascending=False).head(10)['videoId'].tolist()\n",
    "topdf = combined.loc[combined['videoId'].isin(top_videos)]"
   ]
  }
 ],
 "metadata": {
  "kernelspec": {
   "display_name": "Python 3.7.4 ('base')",
   "language": "python",
   "name": "python3"
  },
  "language_info": {
   "name": "python",
   "version": "3.7.4"
  },
  "orig_nbformat": 4,
  "vscode": {
   "interpreter": {
    "hash": "e3cb9dc819795652304a44ab58ca5ddcf1f35aa144f974701a2d129f107a2fd9"
   }
  }
 },
 "nbformat": 4,
 "nbformat_minor": 2
}
