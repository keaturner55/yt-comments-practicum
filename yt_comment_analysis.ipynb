{
 "cells": [
  {
   "cell_type": "markdown",
   "metadata": {},
   "source": [
    "## Final Youtube Comment Analysis\n",
    "\n",
    "Now that we've established the method for determining sentiment, let's move into the data we actually care about measuring--YouTube comments"
   ]
  },
  {
   "cell_type": "code",
   "execution_count": 2,
   "metadata": {},
   "outputs": [],
   "source": [
    "from nltk.sentiment import SentimentIntensityAnalyzer # rule/lexicon-based sentiment analyzer\n",
    "import os\n",
    "from matplotlib import pyplot as plt\n",
    "plt.style.use('seaborn-darkgrid')\n",
    "import seaborn as sns\n",
    "import pandas as pd\n",
    "import pickle\n",
    "from math import trunc\n",
    "\n",
    "# supress warnings from sklearn\n",
    "def warn(*args, **kwargs):\n",
    "    pass\n",
    "import warnings\n",
    "warnings.warn = warn\n",
    "\n",
    "# slklearn imports\n",
    "from sklearn.feature_extraction.text import HashingVectorizer # alternative to tf-idf vectorizer\n",
    "from sklearn.pipeline import Pipeline\n",
    "\n",
    "# local import\n",
    "from comment_scraper import get_sql_table"
   ]
  },
  {
   "cell_type": "markdown",
   "metadata": {},
   "source": [
    "## Get Some Scraped Youtube Comment Data\n",
    "\n",
    "This initial dataset contains several popular videos from the MSNBC Youtube channel. Channel information had to be scraped to get a list of video ids for popular (e.g. high like count) videos that had a reasonable number of comments (kept running into issues scraping to much data for the api limit.)"
   ]
  },
  {
   "cell_type": "code",
   "execution_count": 3,
   "metadata": {},
   "outputs": [],
   "source": [
    "# database path information\n",
    "DATA_DIR = 'C:\\\\Users\\\\keatu\\\\Regis_archive\\\\practicum2_data\\\\'\n",
    "dbname = os.path.join(DATA_DIR, \"Youtube_Data_msnbc.db\")\n"
   ]
  },
  {
   "cell_type": "code",
   "execution_count": 4,
   "metadata": {},
   "outputs": [],
   "source": [
    "# the videos table contains useful information scraped from a channel's youtube page\n",
    "videos = get_sql_table('videos',dbname)\n",
    "videos = videos.replace(\"nan\",0)"
   ]
  },
  {
   "cell_type": "code",
   "execution_count": 5,
   "metadata": {},
   "outputs": [
    {
     "data": {
      "text/html": [
       "<div>\n",
       "<style scoped>\n",
       "    .dataframe tbody tr th:only-of-type {\n",
       "        vertical-align: middle;\n",
       "    }\n",
       "\n",
       "    .dataframe tbody tr th {\n",
       "        vertical-align: top;\n",
       "    }\n",
       "\n",
       "    .dataframe thead th {\n",
       "        text-align: right;\n",
       "    }\n",
       "</style>\n",
       "<table border=\"1\" class=\"dataframe\">\n",
       "  <thead>\n",
       "    <tr style=\"text-align: right;\">\n",
       "      <th></th>\n",
       "      <th>channelId</th>\n",
       "      <th>channelTitle</th>\n",
       "      <th>description</th>\n",
       "      <th>publishedAt</th>\n",
       "      <th>title</th>\n",
       "      <th>videoId</th>\n",
       "      <th>commentCount</th>\n",
       "      <th>favoriteCount</th>\n",
       "      <th>likeCount</th>\n",
       "      <th>viewCount</th>\n",
       "    </tr>\n",
       "  </thead>\n",
       "  <tbody>\n",
       "    <tr>\n",
       "      <th>0</th>\n",
       "      <td>UCaXkIU1QidjPwiAYu6GcHjg</td>\n",
       "      <td>MSNBC</td>\n",
       "      <td>Jeh Johnson, Secretary of Homeland Security un...</td>\n",
       "      <td>2022-07-28T03:00:14Z</td>\n",
       "      <td>'There's Enough Evidence To Prosecute Trump' S...</td>\n",
       "      <td>k8tIAcw0JSM</td>\n",
       "      <td>158</td>\n",
       "      <td>0</td>\n",
       "      <td>447</td>\n",
       "      <td>13203</td>\n",
       "    </tr>\n",
       "    <tr>\n",
       "      <th>1</th>\n",
       "      <td>UCaXkIU1QidjPwiAYu6GcHjg</td>\n",
       "      <td>MSNBC</td>\n",
       "      <td>Since Jan. 6, Trump and his allies have repeat...</td>\n",
       "      <td>2022-07-28T02:30:12Z</td>\n",
       "      <td>Secretary Miller’s Testimony Debunks Lie Pushe...</td>\n",
       "      <td>pkpAay83rO4</td>\n",
       "      <td>303</td>\n",
       "      <td>0</td>\n",
       "      <td>1049</td>\n",
       "      <td>25046</td>\n",
       "    </tr>\n",
       "    <tr>\n",
       "      <th>2</th>\n",
       "      <td>UCaXkIU1QidjPwiAYu6GcHjg</td>\n",
       "      <td>MSNBC</td>\n",
       "      <td>The Indiana doctor who made headlines for prov...</td>\n",
       "      <td>2022-07-28T02:15:01Z</td>\n",
       "      <td>Dr. Who Provided 10-Year-Old With Abortion Car...</td>\n",
       "      <td>jV9WQxNRkUg</td>\n",
       "      <td>85</td>\n",
       "      <td>0</td>\n",
       "      <td>131</td>\n",
       "      <td>2281</td>\n",
       "    </tr>\n",
       "    <tr>\n",
       "      <th>3</th>\n",
       "      <td>UCaXkIU1QidjPwiAYu6GcHjg</td>\n",
       "      <td>MSNBC</td>\n",
       "      <td>Capitol Hill has its share of Trump loyalists....</td>\n",
       "      <td>2022-07-28T02:00:04Z</td>\n",
       "      <td>Understanding Trump's Army Of Capitol Hill Ena...</td>\n",
       "      <td>B5kdHHJP8Js</td>\n",
       "      <td>176</td>\n",
       "      <td>0</td>\n",
       "      <td>612</td>\n",
       "      <td>17075</td>\n",
       "    </tr>\n",
       "    <tr>\n",
       "      <th>4</th>\n",
       "      <td>UCaXkIU1QidjPwiAYu6GcHjg</td>\n",
       "      <td>MSNBC</td>\n",
       "      <td>New signs Rupert Murdoch’s media empire is tur...</td>\n",
       "      <td>2022-07-28T01:30:04Z</td>\n",
       "      <td>See Trump's Living Fox News Nightmare: Murdoch...</td>\n",
       "      <td>WWq9j01aEsc</td>\n",
       "      <td>548</td>\n",
       "      <td>0</td>\n",
       "      <td>2545</td>\n",
       "      <td>75638</td>\n",
       "    </tr>\n",
       "  </tbody>\n",
       "</table>\n",
       "</div>"
      ],
      "text/plain": [
       "                  channelId channelTitle  \\\n",
       "0  UCaXkIU1QidjPwiAYu6GcHjg        MSNBC   \n",
       "1  UCaXkIU1QidjPwiAYu6GcHjg        MSNBC   \n",
       "2  UCaXkIU1QidjPwiAYu6GcHjg        MSNBC   \n",
       "3  UCaXkIU1QidjPwiAYu6GcHjg        MSNBC   \n",
       "4  UCaXkIU1QidjPwiAYu6GcHjg        MSNBC   \n",
       "\n",
       "                                         description           publishedAt  \\\n",
       "0  Jeh Johnson, Secretary of Homeland Security un...  2022-07-28T03:00:14Z   \n",
       "1  Since Jan. 6, Trump and his allies have repeat...  2022-07-28T02:30:12Z   \n",
       "2  The Indiana doctor who made headlines for prov...  2022-07-28T02:15:01Z   \n",
       "3  Capitol Hill has its share of Trump loyalists....  2022-07-28T02:00:04Z   \n",
       "4  New signs Rupert Murdoch’s media empire is tur...  2022-07-28T01:30:04Z   \n",
       "\n",
       "                                               title      videoId  \\\n",
       "0  'There's Enough Evidence To Prosecute Trump' S...  k8tIAcw0JSM   \n",
       "1  Secretary Miller’s Testimony Debunks Lie Pushe...  pkpAay83rO4   \n",
       "2  Dr. Who Provided 10-Year-Old With Abortion Car...  jV9WQxNRkUg   \n",
       "3  Understanding Trump's Army Of Capitol Hill Ena...  B5kdHHJP8Js   \n",
       "4  See Trump's Living Fox News Nightmare: Murdoch...  WWq9j01aEsc   \n",
       "\n",
       "   commentCount  favoriteCount  likeCount  viewCount  \n",
       "0           158              0        447      13203  \n",
       "1           303              0       1049      25046  \n",
       "2            85              0        131       2281  \n",
       "3           176              0        612      17075  \n",
       "4           548              0       2545      75638  "
      ]
     },
     "execution_count": 5,
     "metadata": {},
     "output_type": "execute_result"
    }
   ],
   "source": [
    "videos.drop(columns=\"index\").head()"
   ]
  },
  {
   "cell_type": "code",
   "execution_count": 6,
   "metadata": {},
   "outputs": [],
   "source": [
    "# comments table\n",
    "comments = get_sql_table('comments', dbname)\n",
    "comments = comments.replace(\"nan\",0)"
   ]
  },
  {
   "cell_type": "code",
   "execution_count": 7,
   "metadata": {},
   "outputs": [
    {
     "data": {
      "text/html": [
       "<div>\n",
       "<style scoped>\n",
       "    .dataframe tbody tr th:only-of-type {\n",
       "        vertical-align: middle;\n",
       "    }\n",
       "\n",
       "    .dataframe tbody tr th {\n",
       "        vertical-align: top;\n",
       "    }\n",
       "\n",
       "    .dataframe thead th {\n",
       "        text-align: right;\n",
       "    }\n",
       "</style>\n",
       "<table border=\"1\" class=\"dataframe\">\n",
       "  <thead>\n",
       "    <tr style=\"text-align: right;\">\n",
       "      <th></th>\n",
       "      <th>authorDisplayName</th>\n",
       "      <th>canRate</th>\n",
       "      <th>commentId</th>\n",
       "      <th>likeCount</th>\n",
       "      <th>publishedAt</th>\n",
       "      <th>textDisplay</th>\n",
       "      <th>textOriginal</th>\n",
       "      <th>updatedAt</th>\n",
       "      <th>videoId</th>\n",
       "      <th>viewerRating</th>\n",
       "    </tr>\n",
       "  </thead>\n",
       "  <tbody>\n",
       "    <tr>\n",
       "      <th>0</th>\n",
       "      <td>Acer Maximinus</td>\n",
       "      <td>1.0</td>\n",
       "      <td>UgwoNLyVS1kdhoTEsPR4AaABAg</td>\n",
       "      <td>665</td>\n",
       "      <td>2022-07-28T01:19:43Z</td>\n",
       "      <td>It’s so great that the every news cycle isn’t ...</td>\n",
       "      <td>It’s so great that the every news cycle isn’t ...</td>\n",
       "      <td>2022-07-28T01:19:43Z</td>\n",
       "      <td>xXtHUP0LSpM</td>\n",
       "      <td>none</td>\n",
       "    </tr>\n",
       "    <tr>\n",
       "      <th>1</th>\n",
       "      <td>James Smith</td>\n",
       "      <td>1.0</td>\n",
       "      <td>UgxJsToTUvYHCH8J1qF4AaABAg</td>\n",
       "      <td>613</td>\n",
       "      <td>2022-07-28T01:13:43Z</td>\n",
       "      <td>It’s actually nice watching someone like Trump...</td>\n",
       "      <td>It’s actually nice watching someone like Trump...</td>\n",
       "      <td>2022-07-28T01:13:43Z</td>\n",
       "      <td>xXtHUP0LSpM</td>\n",
       "      <td>none</td>\n",
       "    </tr>\n",
       "    <tr>\n",
       "      <th>2</th>\n",
       "      <td>AskMississippi AskMississippi</td>\n",
       "      <td>1.0</td>\n",
       "      <td>Ugx75sL2in-d9O1nnPN4AaABAg</td>\n",
       "      <td>446</td>\n",
       "      <td>2022-07-28T01:04:31Z</td>\n",
       "      <td>“My political ideal is democracy. Let every pe...</td>\n",
       "      <td>“My political ideal is democracy. Let every pe...</td>\n",
       "      <td>2022-07-28T01:04:31Z</td>\n",
       "      <td>xXtHUP0LSpM</td>\n",
       "      <td>none</td>\n",
       "    </tr>\n",
       "    <tr>\n",
       "      <th>3</th>\n",
       "      <td>JustTrollingAlong</td>\n",
       "      <td>1.0</td>\n",
       "      <td>UgxFK_Dv72ynAZtlZOd4AaABAg</td>\n",
       "      <td>248</td>\n",
       "      <td>2022-07-28T01:28:50Z</td>\n",
       "      <td>If Trump and Ted Bundy got together and had a ...</td>\n",
       "      <td>If Trump and Ted Bundy got together and had a ...</td>\n",
       "      <td>2022-07-28T01:28:50Z</td>\n",
       "      <td>xXtHUP0LSpM</td>\n",
       "      <td>none</td>\n",
       "    </tr>\n",
       "    <tr>\n",
       "      <th>4</th>\n",
       "      <td>Cadiz King</td>\n",
       "      <td>1.0</td>\n",
       "      <td>UgzDn10hD2NXaQmiAwR4AaABAg</td>\n",
       "      <td>455</td>\n",
       "      <td>2022-07-28T01:05:31Z</td>\n",
       "      <td>Trump for Prison.</td>\n",
       "      <td>Trump for Prison.</td>\n",
       "      <td>2022-07-28T01:05:31Z</td>\n",
       "      <td>xXtHUP0LSpM</td>\n",
       "      <td>none</td>\n",
       "    </tr>\n",
       "  </tbody>\n",
       "</table>\n",
       "</div>"
      ],
      "text/plain": [
       "               authorDisplayName canRate                   commentId  \\\n",
       "0                 Acer Maximinus     1.0  UgwoNLyVS1kdhoTEsPR4AaABAg   \n",
       "1                    James Smith     1.0  UgxJsToTUvYHCH8J1qF4AaABAg   \n",
       "2  AskMississippi AskMississippi     1.0  Ugx75sL2in-d9O1nnPN4AaABAg   \n",
       "3              JustTrollingAlong     1.0  UgxFK_Dv72ynAZtlZOd4AaABAg   \n",
       "4                     Cadiz King     1.0  UgzDn10hD2NXaQmiAwR4AaABAg   \n",
       "\n",
       "   likeCount           publishedAt  \\\n",
       "0        665  2022-07-28T01:19:43Z   \n",
       "1        613  2022-07-28T01:13:43Z   \n",
       "2        446  2022-07-28T01:04:31Z   \n",
       "3        248  2022-07-28T01:28:50Z   \n",
       "4        455  2022-07-28T01:05:31Z   \n",
       "\n",
       "                                         textDisplay  \\\n",
       "0  It’s so great that the every news cycle isn’t ...   \n",
       "1  It’s actually nice watching someone like Trump...   \n",
       "2  “My political ideal is democracy. Let every pe...   \n",
       "3  If Trump and Ted Bundy got together and had a ...   \n",
       "4                                  Trump for Prison.   \n",
       "\n",
       "                                        textOriginal             updatedAt  \\\n",
       "0  It’s so great that the every news cycle isn’t ...  2022-07-28T01:19:43Z   \n",
       "1  It’s actually nice watching someone like Trump...  2022-07-28T01:13:43Z   \n",
       "2  “My political ideal is democracy. Let every pe...  2022-07-28T01:04:31Z   \n",
       "3  If Trump and Ted Bundy got together and had a ...  2022-07-28T01:28:50Z   \n",
       "4                                  Trump for Prison.  2022-07-28T01:05:31Z   \n",
       "\n",
       "       videoId viewerRating  \n",
       "0  xXtHUP0LSpM         none  \n",
       "1  xXtHUP0LSpM         none  \n",
       "2  xXtHUP0LSpM         none  \n",
       "3  xXtHUP0LSpM         none  \n",
       "4  xXtHUP0LSpM         none  "
      ]
     },
     "execution_count": 7,
     "metadata": {},
     "output_type": "execute_result"
    }
   ],
   "source": [
    "comments.drop(columns=\"index\").head()"
   ]
  },
  {
   "cell_type": "code",
   "execution_count": 8,
   "metadata": {},
   "outputs": [],
   "source": [
    "# join video information with comment information\n",
    "combined = comments.merge(videos, on='videoId', how=\"inner\", suffixes=(\"\",\"_video\"))\n",
    "# Take the 10 most popular videos using likeCount\n",
    "top_videos = combined.groupby(\"videoId\").aggregate({\"likeCount_video\":\"first\"}).reset_index().sort_values('likeCount_video', ascending=False).head(10)['videoId'].tolist()\n",
    "topdf = combined.loc[combined['videoId'].isin(top_videos)]"
   ]
  },
  {
   "cell_type": "code",
   "execution_count": 9,
   "metadata": {},
   "outputs": [
    {
     "name": "stdout",
     "output_type": "stream",
     "text": [
      "5452\n"
     ]
    }
   ],
   "source": [
    "print(len(topdf))"
   ]
  },
  {
   "cell_type": "markdown",
   "metadata": {},
   "source": [
    "## Do Some Text Classification"
   ]
  },
  {
   "cell_type": "code",
   "execution_count": 10,
   "metadata": {},
   "outputs": [],
   "source": [
    "# load the NBmodel\n",
    "model_file = os.path.join(DATA_DIR,\"resources\",\"bernoullinb_model.sav\")\n",
    "with open(model_file, 'rb') as f:\n",
    "   nb_model = pickle.load(f)\n",
    "\n",
    "# initalize NLTK VADER model\n",
    "sia = SentimentIntensityAnalyzer()\n",
    "\n",
    "# setup preprocessing pipeline for the model\n",
    "estimators=[('vectorizer',\n",
    "    HashingVectorizer(\n",
    "        ngram_range=(1,2),\n",
    "        n_features=2**25,\n",
    "        binary = True))]\n",
    "pipeline = Pipeline(estimators)"
   ]
  },
  {
   "cell_type": "code",
   "execution_count": 11,
   "metadata": {},
   "outputs": [
    {
     "name": "stdout",
     "output_type": "stream",
     "text": [
      "Total comments: 495\n",
      "Video Title: Indicted Trump Coup Plotter Runs From Voting Machine Plot He Admitted\n"
     ]
    }
   ],
   "source": [
    "# Test out on one video\n",
    "testdf= topdf.loc[topdf[\"videoId\"]==\"ZEuVKKnRbcQ\"]\n",
    "print(\"Total comments: {}\".format(len(testdf)))\n",
    "print(\"Video Title: {}\".format(testdf['title'].unique()[0]))"
   ]
  },
  {
   "cell_type": "code",
   "execution_count": 12,
   "metadata": {},
   "outputs": [],
   "source": [
    "# preprocess the text with our HashingVectorizer parameters\n",
    "input_text = testdf[\"textOriginal\"]\n",
    "proc_text = pipeline.fit_transform(input_text)"
   ]
  },
  {
   "cell_type": "code",
   "execution_count": 13,
   "metadata": {},
   "outputs": [],
   "source": [
    "testdf[\"nb_score\"] = nb_model.predict(proc_text)\n",
    "testdf[\"vader_score\"] = testdf[\"textOriginal\"].apply(lambda x: sia.polarity_scores(x)['compound'])"
   ]
  },
  {
   "cell_type": "code",
   "execution_count": 14,
   "metadata": {},
   "outputs": [
    {
     "data": {
      "image/png": "[encoded data removed]",
      "text/plain": [
       "<Figure size 1440x360 with 2 Axes>"
      ]
     },
     "metadata": {},
     "output_type": "display_data"
    }
   ],
   "source": [
    "# Plot compare sentiment \n",
    "fig = plt.figure(figsize = (20,5))\n",
    "\n",
    "ax1 = fig.add_subplot(131)\n",
    "ax1.set_xlabel(\"NB Prediction\", size = 25)\n",
    "ax1.hist(testdf[\"nb_score\"])\n",
    "\n",
    "ax2 = fig.add_subplot(132)\n",
    "ax2.hist(testdf['vader_score'])\n",
    "ax2.set_xlabel(\"VADER Score\", size = 25)\n",
    "\n",
    "for ax in (ax1,ax2):\n",
    "    ax.tick_params(axis='x', labelsize= 20)\n",
    "    ax.tick_params(axis='y', labelsize= 20)\n",
    "    ax.ticklabel_format(axis='y', style='sci', scilimits=(0,0))\n",
    "    ax.spines['right'].set_visible(False)\n",
    "    ax.spines['top'].set_visible(False)\n",
    "\n",
    "plt.tight_layout()\n"
   ]
  },
  {
   "cell_type": "code",
   "execution_count": 16,
   "metadata": {},
   "outputs": [],
   "source": [
    "# assume that like count adds to the users expressing that sentiment\n",
    "vader_scores = []\n",
    "nb_scores = []\n",
    "for i,row in testdf[[\"vader_score\",\"nb_score\",\"likeCount\"]].iterrows():\n",
    "    like_int = row['likeCount']\n",
    "    vader_scores.extend([row[\"vader_score\"]]*trunc(like_int+1))\n",
    "    nb_scores.extend([row[\"nb_score\"]]*trunc(like_int+1))\n"
   ]
  },
  {
   "cell_type": "code",
   "execution_count": 17,
   "metadata": {},
   "outputs": [
    {
     "data": {
      "image/png": "[encoded data removed]",
      "text/plain": [
       "<Figure size 1440x360 with 2 Axes>"
      ]
     },
     "metadata": {},
     "output_type": "display_data"
    }
   ],
   "source": [
    "# Plot compare sentiment \n",
    "fig = plt.figure(figsize = (20,5))\n",
    "\n",
    "ax1 = fig.add_subplot(131)\n",
    "ax1.set_xlabel(\"NB Prediction\", size = 25)\n",
    "ax1.hist(nb_scores)\n",
    "\n",
    "ax2 = fig.add_subplot(132)\n",
    "ax2.hist(vader_scores)\n",
    "ax2.set_xlabel(\"VADER Score\", size = 25)\n",
    "\n",
    "for ax in (ax1,ax2):\n",
    "    ax.tick_params(axis='x', labelsize= 20)\n",
    "    ax.tick_params(axis='y', labelsize= 20)\n",
    "    ax.ticklabel_format(axis='y', style='sci', scilimits=(0,0))\n",
    "    ax.spines['right'].set_visible(False)\n",
    "    ax.spines['top'].set_visible(False)\n",
    "\n",
    "plt.tight_layout()"
   ]
  },
  {
   "cell_type": "markdown",
   "metadata": {},
   "source": [
    "This completely flips the original results--insinuating that negative comments are the most popular.\n",
    "The comments are sorted by Youtube's definition of \"relevance\", which generally consist of highly liked comments--let's take a look at those numbers"
   ]
  },
  {
   "cell_type": "code",
   "execution_count": 29,
   "metadata": {},
   "outputs": [
    {
     "data": {
      "image/png": "[encoded data removed]",
      "text/plain": [
       "<Figure size 432x288 with 1 Axes>"
      ]
     },
     "metadata": {},
     "output_type": "display_data"
    }
   ],
   "source": [
    "fig, ax = plt.subplots()\n",
    "ax.plot(testdf['index'],testdf['likeCount'])\n",
    "ax.set_xlabel(\"Comment Relevance (most to least)\",size = 15)\n",
    "ax.set_ylabel(\"Like Count\",size = 15)\n",
    "ax.tick_params(axis='x', labelsize= 12)\n",
    "ax.tick_params(axis='y', labelsize= 12)\n",
    "ax.spines['right'].set_visible(False)\n",
    "ax.spines['top'].set_visible(False)\n"
   ]
  },
  {
   "cell_type": "markdown",
   "metadata": {},
   "source": [
    "#### Sniff test"
   ]
  },
  {
   "cell_type": "code",
   "execution_count": 50,
   "metadata": {},
   "outputs": [
    {
     "data": {
      "text/html": [
       "<div>\n",
       "<style scoped>\n",
       "    .dataframe tbody tr th:only-of-type {\n",
       "        vertical-align: middle;\n",
       "    }\n",
       "\n",
       "    .dataframe tbody tr th {\n",
       "        vertical-align: top;\n",
       "    }\n",
       "\n",
       "    .dataframe thead th {\n",
       "        text-align: right;\n",
       "    }\n",
       "</style>\n",
       "<table border=\"1\" class=\"dataframe\">\n",
       "  <thead>\n",
       "    <tr style=\"text-align: right;\">\n",
       "      <th></th>\n",
       "      <th>textOriginal</th>\n",
       "      <th>nb_score</th>\n",
       "      <th>vader_score</th>\n",
       "    </tr>\n",
       "  </thead>\n",
       "  <tbody>\n",
       "    <tr>\n",
       "      <th>34637</th>\n",
       "      <td>Ohhhh narravo? Is that wise ?once you deny rec...</td>\n",
       "      <td>4</td>\n",
       "      <td>0.9479</td>\n",
       "    </tr>\n",
       "    <tr>\n",
       "      <th>34816</th>\n",
       "      <td>16 For God so loved the world that He gave His...</td>\n",
       "      <td>4</td>\n",
       "      <td>0.9367</td>\n",
       "    </tr>\n",
       "    <tr>\n",
       "      <th>34585</th>\n",
       "      <td>I love how some of these higher echelon bums a...</td>\n",
       "      <td>4</td>\n",
       "      <td>0.9201</td>\n",
       "    </tr>\n",
       "    <tr>\n",
       "      <th>34526</th>\n",
       "      <td>I love you Ari! You cut to the chase. You're p...</td>\n",
       "      <td>4</td>\n",
       "      <td>0.9114</td>\n",
       "    </tr>\n",
       "    <tr>\n",
       "      <th>34562</th>\n",
       "      <td>That's funny.  Military voted for Biden big.\\n...</td>\n",
       "      <td>4</td>\n",
       "      <td>0.8928</td>\n",
       "    </tr>\n",
       "    <tr>\n",
       "      <th>34546</th>\n",
       "      <td>Love the way you report very simple to underst...</td>\n",
       "      <td>4</td>\n",
       "      <td>0.8877</td>\n",
       "    </tr>\n",
       "    <tr>\n",
       "      <th>34652</th>\n",
       "      <td>Typical of Trump to ask for money donations af...</td>\n",
       "      <td>4</td>\n",
       "      <td>0.8718</td>\n",
       "    </tr>\n",
       "    <tr>\n",
       "      <th>34538</th>\n",
       "      <td>This is all so delicious to take in.  The J6 C...</td>\n",
       "      <td>4</td>\n",
       "      <td>0.8570</td>\n",
       "    </tr>\n",
       "    <tr>\n",
       "      <th>34831</th>\n",
       "      <td>Love Trump And God bless Donald Trump.</td>\n",
       "      <td>4</td>\n",
       "      <td>0.8442</td>\n",
       "    </tr>\n",
       "    <tr>\n",
       "      <th>34828</th>\n",
       "      <td>So funny ,I guess Peter Pan is a true story as...</td>\n",
       "      <td>4</td>\n",
       "      <td>0.8389</td>\n",
       "    </tr>\n",
       "  </tbody>\n",
       "</table>\n",
       "</div>"
      ],
      "text/plain": [
       "                                            textOriginal  nb_score  \\\n",
       "34637  Ohhhh narravo? Is that wise ?once you deny rec...         4   \n",
       "34816  16 For God so loved the world that He gave His...         4   \n",
       "34585  I love how some of these higher echelon bums a...         4   \n",
       "34526  I love you Ari! You cut to the chase. You're p...         4   \n",
       "34562  That's funny.  Military voted for Biden big.\\n...         4   \n",
       "34546  Love the way you report very simple to underst...         4   \n",
       "34652  Typical of Trump to ask for money donations af...         4   \n",
       "34538  This is all so delicious to take in.  The J6 C...         4   \n",
       "34831             Love Trump And God bless Donald Trump.         4   \n",
       "34828  So funny ,I guess Peter Pan is a true story as...         4   \n",
       "\n",
       "       vader_score  \n",
       "34637       0.9479  \n",
       "34816       0.9367  \n",
       "34585       0.9201  \n",
       "34526       0.9114  \n",
       "34562       0.8928  \n",
       "34546       0.8877  \n",
       "34652       0.8718  \n",
       "34538       0.8570  \n",
       "34831       0.8442  \n",
       "34828       0.8389  "
      ]
     },
     "execution_count": 50,
     "metadata": {},
     "output_type": "execute_result"
    }
   ],
   "source": [
    "cols = ['textOriginal','nb_score','vader_score']\n",
    "testdf.sort_values(['nb_score','vader_score'], ascending=False)[cols].head(10)"
   ]
  },
  {
   "cell_type": "code",
   "execution_count": 52,
   "metadata": {},
   "outputs": [
    {
     "data": {
      "text/plain": [
       "array(['Ohhhh narravo? Is that wise ?once you deny recongize the law of the land ! I pray justice get you real good ! No changing no chance  once you refused ! Good luck! We Americans go behind justice',\n",
       "       '16 For God so loved the world that He gave His only begotten Son, that whoever believes in Him should not perish but have everlasting life. 17 For God did not send His Son into the world to condemn the world, but that the world through Him might be saved.\\n\\n\\n\\n18 “He who believes in Him is not condemned; but he who does not believe is condemned already, because he has not believed in the name of the only begotten Son of God. John 3:16-18 NKJV',\n",
       "       'I love how some of these higher echelon bums are giving their best renditions of Sergeant Schultz on the old \"Hogan\\'s Heros\" show  \"I know nothing, Noth-inng\"  Totally forgetting the virtual MILES of tape recorded information to the contrary.',\n",
       "       \"I love you Ari! You cut to the chase. You're persistent about getting to the truth and facts. You don't give some of your reluctant rep Trump allies quests much wiggle room. Thank you! Your show is about truth, good or bad. Great reporting!\",\n",
       "       \"That's funny.  Military voted for Biden big.\\n'Military bases swung hard away from Republicans in 2020'\\nThe Economist. October 16th, 2021.\\n\\n'Here's why Trump has lost so much support in the active duty military'\\nTime. October 9th, 20/20\\n\\n'Military times poll 38% of active duty troops have favorable view of trump'\\nFox 10 Phoenix. September 14th, 2020.\\n\\n'Trump campaign witness says it's 'odd' that US troops voted for Biden in large numbers'\\nBusiness Insider.  Nov. 11, 2020\",\n",
       "       'Love the way you report very simple to understand! Great work!!!!',\n",
       "       \"Typical of Trump to ask for money donations after Ivana's death.  Instead of saying something like instead of flowers, donate to your favorite charity, and we all know that Trump's favorite charity if Trump!  Grifting off the death of your ex-wife is pretty, pretty low, even for the Trumps.🖤🖤\",\n",
       "       \"This is all so delicious to take in.  The J6 Committee is doing a wonderful job and should lead to  Trump's indictment 😃\",\n",
       "       'Love Trump And God bless Donald Trump.',\n",
       "       'So funny ,I guess Peter Pan is a true story as well!!! Trump 2024'],\n",
       "      dtype=object)"
      ]
     },
     "execution_count": 52,
     "metadata": {},
     "output_type": "execute_result"
    }
   ],
   "source": [
    "testdf.sort_values(['nb_score','vader_score'], ascending=False)[cols].head(10)['textOriginal'].values"
   ]
  },
  {
   "cell_type": "markdown",
   "metadata": {},
   "source": [
    "Seems ok for the most part--but I can see a decent amount of sarcasm in these comments. This was a major issue in the VADER package, so perhaps using these as a benchmark for positive comments is not a good idea."
   ]
  },
  {
   "cell_type": "code",
   "execution_count": 59,
   "metadata": {},
   "outputs": [
    {
     "data": {
      "text/plain": [
       "array([\"They'll both seek appeals that will push off their days of reckoning until the next GOP president issues them pardons.\",\n",
       "       'I think that powerpoint they made should be more than enough evidenve',\n",
       "       'Mango Mussolini is going to prison, amen!',\n",
       "       \"That's the problem with our justice system. Offering people that disregard the law a plea deal. Do your job and prosecute these traitors.\",\n",
       "       'How many family members did Cheney have to threaten?',\n",
       "       'Ari, your coverage of ‘your friend’ Navarro is illuminating. I truly believe he forgot that for all intents and purpose he admitted guilt on your show',\n",
       "       'Ari, you and your folks do great,honest work. Thanks for supporting our democracy.',\n",
       "       'I love the \"role the tape\" moments.',\n",
       "       'President Biden is remarkable',\n",
       "       \"trump's motley Crew  are going down\"], dtype=object)"
      ]
     },
     "execution_count": 59,
     "metadata": {},
     "output_type": "execute_result"
    }
   ],
   "source": [
    "testdf.loc[testdf['nb_score']==4].sample(10)['textOriginal'].values"
   ]
  },
  {
   "cell_type": "code",
   "execution_count": 55,
   "metadata": {},
   "outputs": [
    {
     "data": {
      "text/plain": [
       "array(['Anybody caught lying to the January 6th committee should and must lose all government pensions they would be due to them for contempt  they should lose any other perks. They should face a long prison terms as a warning they will lose everything for abusing their office. They should never be allowed to stand for public office ever again.',\n",
       "       \"I wouldn't have offered Navarro a plea deal anyway. He needs to be tossed in prison and not some fancy federal prison. While there, he can be charged and convicted again, so he can spend the rest of his life in prison thinking about what he did. I don't see why our government keeps playing with these people, throw the book at them and lock them up!\",\n",
       "       'So, 5 years for contempt, assuming the maximum.  Or, 20 years for plotting a coup and being hated and probably never getting a day early... tough choice',\n",
       "       \"I see much disappointment in Trump's Rep's future , sad so gullible ....\",\n",
       "       'These guys said things in public, put thing in writing and still deny. They are either on the public record verbally or in writing and they still deny. These guys have no shame , morality or ethics.',\n",
       "       'Prison time...It is about time Ari !!!...But in the meantime  Trump and his Trownies did a lot of damage to the whole world.......!!!!!!',\n",
       "       \"Somehow, the thought of being a prisoner's cell mate B!TCH, must scare ole Peter to death. He is still open to offers.\",\n",
       "       'Allow me to save the court time:  Bannon - GUILTY!  Navarro - GUILTY!  Trump - GUILTY!',\n",
       "       'Hoping to add perjury charges after he lies under oath. The only sweeping will be prison hallways.',\n",
       "       'LIARS CRIMINALS'], dtype=object)"
      ]
     },
     "execution_count": 55,
     "metadata": {},
     "output_type": "execute_result"
    }
   ],
   "source": [
    "testdf.sort_values(['nb_score','vader_score'])[cols].head(10)['textOriginal'].values"
   ]
  },
  {
   "cell_type": "markdown",
   "metadata": {},
   "source": [
    "## Go through a bunch of videos from MSNBC"
   ]
  },
  {
   "cell_type": "code",
   "execution_count": 54,
   "metadata": {},
   "outputs": [
    {
     "name": "stdout",
     "output_type": "stream",
     "text": [
      "Total comments: 188516\n",
      "Total videos: 519\n"
     ]
    }
   ],
   "source": [
    "print(\"Total comments: {}\".format(len(combined)))\n",
    "print(\"Total videos: {}\".format(combined['videoId'].nunique()))"
   ]
  },
  {
   "cell_type": "code",
   "execution_count": 51,
   "metadata": {},
   "outputs": [
    {
     "name": "stdout",
     "output_type": "stream",
     "text": [
      "vectorizing the text\n",
      "scoring with naive bayes model\n",
      "scoring with vader\n"
     ]
    }
   ],
   "source": [
    "# apply same model preprocessing/classifcation steps\n",
    "input_text = combined[\"textOriginal\"]\n",
    "print(\"vectorizing the text\")\n",
    "proc_text = pipeline.fit_transform(input_text)\n",
    "print(\"scoring with naive bayes model\")\n",
    "combined[\"nb_score\"] = nb_model.predict(proc_text)\n",
    "print(\"scoring with vader\")\n",
    "combined[\"vader_score\"] = combined[\"textOriginal\"].apply(lambda x: sia.polarity_scores(x)['compound'])"
   ]
  },
  {
   "cell_type": "code",
   "execution_count": 56,
   "metadata": {},
   "outputs": [
    {
     "name": "stdout",
     "output_type": "stream",
     "text": [
      "-9GIpOgGLz8\n",
      "339\n"
     ]
    }
   ],
   "source": [
    "\n",
    "for vidId,grp in combined.groupby(\"videoId\"):\n",
    "    "
   ]
  },
  {
   "cell_type": "code",
   "execution_count": null,
   "metadata": {},
   "outputs": [],
   "source": []
  }
 ],
 "metadata": {
  "kernelspec": {
   "display_name": "Python 3.7.4 ('base')",
   "language": "python",
   "name": "python3"
  },
  "language_info": {
   "codemirror_mode": {
    "name": "ipython",
    "version": 3
   },
   "file_extension": ".py",
   "mimetype": "text/x-python",
   "name": "python",
   "nbconvert_exporter": "python",
   "pygments_lexer": "ipython3",
   "version": "3.7.4"
  },
  "orig_nbformat": 4,
  "vscode": {
   "interpreter": {
    "hash": "e3cb9dc819795652304a44ab58ca5ddcf1f35aa144f974701a2d129f107a2fd9"
   }
  }
 },
 "nbformat": 4,
 "nbformat_minor": 2
}
